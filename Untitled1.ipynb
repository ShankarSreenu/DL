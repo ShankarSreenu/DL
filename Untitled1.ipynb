{
  "nbformat": 4,
  "nbformat_minor": 0,
  "metadata": {
    "colab": {
      "name": "Untitled1.ipynb",
      "provenance": [],
      "collapsed_sections": []
    },
    "kernelspec": {
      "display_name": "Python 3",
      "name": "python3"
    },
    "language_info": {
      "name": "python"
    }
  },
  "cells": [
    {
      "cell_type": "code",
      "metadata": {
        "id": "cLnU2dPsrk6B"
      },
      "source": [
        "from google.colab import drive\n",
        "import matplotlib.pyplot as plt\n"
      ],
      "execution_count": 10,
      "outputs": []
    },
    {
      "cell_type": "code",
      "metadata": {
        "colab": {
          "base_uri": "https://localhost:8080/"
        },
        "id": "ae_exkAHszUf",
        "outputId": "3777abb1-686c-4a35-b029-98c0df171247"
      },
      "source": [
        "drive.mount('/content/drive')"
      ],
      "execution_count": 11,
      "outputs": [
        {
          "output_type": "stream",
          "name": "stdout",
          "text": [
            "Drive already mounted at /content/drive; to attempt to forcibly remount, call drive.mount(\"/content/drive\", force_remount=True).\n"
          ]
        }
      ]
    },
    {
      "cell_type": "code",
      "metadata": {
        "id": "nAbUsvQlt28T"
      },
      "source": [
        "import tensorflow as tf\n",
        "from tensorflow.keras import datasets,layers,models\n",
        "#from matploitlib.pyplot  as plt"
      ],
      "execution_count": 12,
      "outputs": []
    },
    {
      "cell_type": "code",
      "metadata": {
        "colab": {
          "base_uri": "https://localhost:8080/"
        },
        "id": "0pyjjzSskl2m",
        "outputId": "39c9d7f2-0d47-4d78-9a58-49c575bf0121"
      },
      "source": [
        "from tensorflow.keras.preprocessing.image import ImageDataGenerator\n",
        "\n",
        "train_datagen = ImageDataGenerator(rescale=1./255, shear_range=0.1, zoom_range=0.1, horizontal_flip=True)\n",
        "\n",
        "test_datagen = ImageDataGenerator(rescale=1./255, shear_range=0.1, zoom_range=0.1, horizontal_flip=True)\n",
        "\n",
        "print('Train Set:')\n",
        "train_data = train_datagen.flow_from_directory('/content/Top-fruits-dataset-split/Train',\n",
        "                                             target_size=(256,256),\n",
        "                                             batch_size = 12,\n",
        "                                             class_mode='sparse',\n",
        "                                             shuffle=True)\n",
        "print(\"\")\n",
        "\n",
        "print('Test Set:')\n",
        "test_data = test_datagen.flow_from_directory('/content/Top-fruits-dataset-split/Test',\n",
        "                                           target_size=(256,256),\n",
        "                                           batch_size = 12,\n",
        "                                           class_mode='sparse',\n",
        "                                           shuffle=False)\n"
      ],
      "execution_count": 13,
      "outputs": [
        {
          "output_type": "stream",
          "name": "stdout",
          "text": [
            "Train Set:\n",
            "Found 9600 images belonging to 12 classes.\n",
            "\n",
            "Test Set:\n",
            "Found 2400 images belonging to 12 classes.\n"
          ]
        }
      ]
    },
    {
      "cell_type": "code",
      "metadata": {
        "id": "FN53UfMFlPe1"
      },
      "source": [
        "from tensorflow.keras.utils import to_categorical \n",
        "\n",
        "#geting catagorical vector for test data\n",
        "total_classes=len(train_data.class_indices)\n",
        "train_labels=train_data.classes\n",
        "train_labels=to_categorical(train_labels,total_classes)\n",
        "\n",
        "#geting catagorical vector for test data\n",
        "test_labels=train_data.classes\n",
        "test_labels=to_categorical(test_labels,total_classes)\n"
      ],
      "execution_count": 14,
      "outputs": []
    },
    {
      "cell_type": "code",
      "metadata": {
        "id": "mDEnIPZqsGkC"
      },
      "source": [
        "from tensorflow.keras.models import Sequential\n",
        "from keras import regularizers\n",
        "\n",
        "import tensorflow\n",
        "num_classes = 12\n",
        "\n",
        "model = Sequential([ \n",
        "  layers.Conv2D(32, 3, padding='same', activation='relu'),\n",
        "  layers.MaxPooling2D(),\n",
        "  layers.Conv2D(64, 3, padding='same', activation='relu'),\n",
        "  layers.MaxPooling2D(),\n",
        "  layers.Flatten(),\n",
        "  layers.Dense(128, activation='relu'),\n",
        "  layers.Dense(num_classes, activation='softmax')\n",
        "])\n",
        "\n",
        "model.compile(optimizer='adam',\n",
        "              loss=tensorflow.keras.losses.SparseCategoricalCrossentropy(from_logits=True),\n",
        "              metrics=['accuracy'])\n"
      ],
      "execution_count": 15,
      "outputs": []
    },
    {
      "cell_type": "code",
      "metadata": {
        "colab": {
          "base_uri": "https://localhost:8080/"
        },
        "id": "Fc3rkLjXvYzk",
        "outputId": "510c6b5b-0f6b-4720-c61b-a22f4e426967"
      },
      "source": [
        "epochs=20\n",
        "history = model.fit_generator(\n",
        "  train_data,\n",
        "  validation_data=test_data,\n",
        "  epochs=epochs,\n",
        "  steps_per_epoch=250\n",
        ")\n",
        "\n"
      ],
      "execution_count": 16,
      "outputs": [
        {
          "metadata": {
            "tags": null
          },
          "name": "stderr",
          "output_type": "stream",
          "text": [
            "/usr/local/lib/python3.7/dist-packages/keras/engine/training.py:1972: UserWarning: `Model.fit_generator` is deprecated and will be removed in a future version. Please use `Model.fit`, which supports generators.\n",
            "  warnings.warn('`Model.fit_generator` is deprecated and '\n"
          ]
        },
        {
          "metadata": {
            "tags": null
          },
          "name": "stdout",
          "output_type": "stream",
          "text": [
            "Epoch 1/20\n"
          ]
        },
        {
          "metadata": {
            "tags": null
          },
          "name": "stderr",
          "output_type": "stream",
          "text": [
            "/usr/local/lib/python3.7/dist-packages/keras/backend.py:4907: UserWarning: \"`sparse_categorical_crossentropy` received `from_logits=True`, but the `output` argument was produced by a sigmoid or softmax activation and thus does not represent logits. Was this intended?\"\n",
            "  '\"`sparse_categorical_crossentropy` received `from_logits=True`, but '\n"
          ]
        },
        {
          "metadata": {
            "tags": null
          },
          "name": "stdout",
          "output_type": "stream",
          "text": [
            "250/250 [==============================] - 528s 2s/step - loss: 1.5093 - accuracy: 0.5962 - val_loss: 0.8055 - val_accuracy: 0.7458\n",
            "Epoch 2/20\n",
            "250/250 [==============================] - 528s 2s/step - loss: 0.5001 - accuracy: 0.8503 - val_loss: 0.3235 - val_accuracy: 0.8971\n",
            "Epoch 3/20\n",
            "250/250 [==============================] - 524s 2s/step - loss: 0.3934 - accuracy: 0.8750 - val_loss: 0.3581 - val_accuracy: 0.8804\n",
            "Epoch 4/20\n",
            "250/250 [==============================] - 525s 2s/step - loss: 0.2633 - accuracy: 0.9160 - val_loss: 0.2648 - val_accuracy: 0.9121\n",
            "Epoch 5/20\n",
            "250/250 [==============================] - 524s 2s/step - loss: 0.2221 - accuracy: 0.9310 - val_loss: 0.2113 - val_accuracy: 0.9404\n",
            "Epoch 6/20\n",
            "250/250 [==============================] - 525s 2s/step - loss: 0.2003 - accuracy: 0.9373 - val_loss: 0.2479 - val_accuracy: 0.9258\n",
            "Epoch 7/20\n",
            "250/250 [==============================] - 522s 2s/step - loss: 0.1692 - accuracy: 0.9490 - val_loss: 0.1897 - val_accuracy: 0.9408\n",
            "Epoch 8/20\n",
            "250/250 [==============================] - 521s 2s/step - loss: 0.1785 - accuracy: 0.9455 - val_loss: 0.2453 - val_accuracy: 0.9225\n",
            "Epoch 9/20\n",
            "250/250 [==============================] - 526s 2s/step - loss: 0.1805 - accuracy: 0.9467 - val_loss: 0.2225 - val_accuracy: 0.9375\n",
            "Epoch 10/20\n",
            "250/250 [==============================] - 526s 2s/step - loss: 0.1121 - accuracy: 0.9660 - val_loss: 0.1616 - val_accuracy: 0.9542\n",
            "Epoch 11/20\n",
            "250/250 [==============================] - 523s 2s/step - loss: 0.1651 - accuracy: 0.9485 - val_loss: 0.2215 - val_accuracy: 0.9271\n",
            "Epoch 12/20\n",
            "250/250 [==============================] - 521s 2s/step - loss: 0.1390 - accuracy: 0.9588 - val_loss: 0.1575 - val_accuracy: 0.9550\n",
            "Epoch 13/20\n",
            "250/250 [==============================] - 519s 2s/step - loss: 0.0963 - accuracy: 0.9688 - val_loss: 0.1177 - val_accuracy: 0.9683\n",
            "Epoch 14/20\n",
            "250/250 [==============================] - 519s 2s/step - loss: 0.0914 - accuracy: 0.9715 - val_loss: 0.2127 - val_accuracy: 0.9404\n",
            "Epoch 15/20\n",
            "250/250 [==============================] - 519s 2s/step - loss: 0.1105 - accuracy: 0.9657 - val_loss: 0.1969 - val_accuracy: 0.9400\n",
            "Epoch 16/20\n",
            "250/250 [==============================] - 520s 2s/step - loss: 0.1154 - accuracy: 0.9668 - val_loss: 0.2241 - val_accuracy: 0.9379\n",
            "Epoch 17/20\n",
            "250/250 [==============================] - 519s 2s/step - loss: 0.1578 - accuracy: 0.9475 - val_loss: 0.1925 - val_accuracy: 0.9492\n",
            "Epoch 18/20\n",
            "250/250 [==============================] - 516s 2s/step - loss: 0.1021 - accuracy: 0.9675 - val_loss: 0.1815 - val_accuracy: 0.9504\n",
            "Epoch 19/20\n",
            "250/250 [==============================] - 517s 2s/step - loss: 0.0779 - accuracy: 0.9762 - val_loss: 0.1490 - val_accuracy: 0.9546\n",
            "Epoch 20/20\n",
            "250/250 [==============================] - 517s 2s/step - loss: 0.0511 - accuracy: 0.9837 - val_loss: 0.1682 - val_accuracy: 0.9592\n"
          ]
        }
      ]
    },
    {
      "cell_type": "code",
      "metadata": {
        "id": "ufKkkHoxyLBp",
        "colab": {
          "base_uri": "https://localhost:8080/"
        },
        "outputId": "adee046c-9274-49bb-ca6e-48b502d96f66"
      },
      "source": [
        "\n",
        "x2 = model.evaluate(train_data)\n",
        "print(x2)\n"
      ],
      "execution_count": 17,
      "outputs": [
        {
          "output_type": "stream",
          "name": "stdout",
          "text": [
            "600/600 [==============================] - 362s 603ms/step - loss: 0.0599 - accuracy: 0.9836\n",
            "[0.059938762336969376, 0.9836458563804626]\n"
          ]
        }
      ]
    },
    {
      "cell_type": "code",
      "metadata": {
        "id": "15Gep3_NE06R",
        "colab": {
          "base_uri": "https://localhost:8080/",
          "height": 573
        },
        "outputId": "ad19c1b5-ebca-4866-dc8d-3f6926ce56f9"
      },
      "source": [
        "plt.plot(history.history['accuracy'])\n",
        "plt.plot(history.history['val_accuracy'])\n",
        "plt.title('model accuracy')\n",
        "plt.ylabel('accuracy')\n",
        "plt.xlabel('epoch')\n",
        "plt.legend(['train', 'test'], loc='upper left')\n",
        "plt.show()\n",
        "# summarize history for loss\n",
        "plt.plot(history.history['loss'])\n",
        "plt.plot(history.history['val_loss'])\n",
        "plt.title('model loss')\n",
        "plt.ylabel('loss')\n",
        "plt.xlabel('epoch')\n",
        "plt.legend(['train', 'test'], loc='upper left')\n",
        "plt.show()"
      ],
      "execution_count": 18,
      "outputs": [
        {
          "output_type": "display_data",
          "data": {
            "image/png": "[encoded data removed]",
            "text/plain": [
              "<Figure size 432x288 with 1 Axes>"
            ]
          },
          "metadata": {
            "needs_background": "light"
          }
        },
        {
          "output_type": "display_data",
          "data": {
            "image/png": "[encoded data removed]",
            "text/plain": [
              "<Figure size 432x288 with 1 Axes>"
            ]
          },
          "metadata": {
            "needs_background": "light"
          }
        }
      ]
    },
    {
      "cell_type": "code",
      "metadata": {
        "id": "15FpKFBRSvZ3",
        "colab": {
          "base_uri": "https://localhost:8080/"
        },
        "outputId": "152e6982-9f53-4a7f-fb3d-b691e3b3e1d3"
      },
      "source": [
        "x2 = model.evaluate(test_data)\n",
        "print(x2)"
      ],
      "execution_count": 19,
      "outputs": [
        {
          "output_type": "stream",
          "name": "stdout",
          "text": [
            "150/150 [==============================] - 91s 604ms/step - loss: 0.1650 - accuracy: 0.9579\n",
            "[0.16501504182815552, 0.9579166769981384]\n"
          ]
        }
      ]
    },
    {
      "cell_type": "code",
      "metadata": {
        "id": "sJYtclws7MPo"
      },
      "source": [
        ""
      ],
      "execution_count": null,
      "outputs": []
    }
  ]
}