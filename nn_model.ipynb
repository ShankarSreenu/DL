{
 "cells": [
  {
   "cell_type": "code",
   "execution_count": 215,
   "metadata": {},
   "outputs": [
    {
     "name": "stdout",
     "output_type": "stream",
     "text": [
      "Enter no of layers\n",
      "4\n",
      "[[1. 1. 0. 0.]]\n",
      "The final cost = 0.009159420330024584\n"
     ]
    },
    {
     "data": {
      "text/plain": [
       "<matplotlib.collections.PathCollection at 0x7fa9a809fbe0>"
      ]
     },
     "execution_count": 215,
     "metadata": {},
     "output_type": "execute_result"
    },
    {
     "data": {
      "image/png": "[encoded data removed]",
      "text/plain": [
       "<Figure size 432x288 with 1 Axes>"
      ]
     },
     "metadata": {
      "needs_background": "light"
     },
     "output_type": "display_data"
    }
   ],
   "source": [
    "#single layer neural network\n",
    "#solved xor problem using single layer neural network\n",
    "\n",
    "import numpy as np\n",
    "import matplotlib.pyplot as plt\n",
    "\n",
    "\n",
    "#initialsie neural network\n",
    "#nh no of hidden nodes dim\n",
    "#ny output layer dims\n",
    "#X=(m,nx)\n",
    "#Y=(1,m)\n",
    "#nx x dimesnions\n",
    "#m no of traing examples(d)\n",
    "class NeuralNetwork():\n",
    "    def __init__(self,nx,ny,m,nh):\n",
    "        self.W1=np.random.randn(nh,nx)\n",
    "        self.b1=np.zeros(shape=(nh, 1))\n",
    "        self.W2=np.random.randn(ny,nh)\n",
    "        self.b2=np.zeros(shape=(ny, 1))\n",
    "    #activation\n",
    "    def sigmoid(self,x):\n",
    "        return 1/(1+np.exp(-x))\n",
    "\n",
    "#farword propagation\n",
    "def forward_prop(W1,b1,W2,b2,node):\n",
    "    cache={}\n",
    "    Z1=np.dot(W1,X.T)+b1\n",
    "    A1=node.sigmoid(Z1)\n",
    "    Z2=np.dot(W2,A1)+b2\n",
    "    A2=node.sigmoid(Z2)\n",
    "    cache={\"Z1\":Z1,\n",
    "           \"A1\":A1,\n",
    "           \"Z2\":Z2,\n",
    "           \"A2\":A2}\n",
    "    return cache\n",
    "\n",
    "#back propagation\n",
    "def back_pass(y,cache,node):\n",
    "    m=y.shape[1]\n",
    "    A2=cache[\"A2\"]\n",
    "    A1=cache[\"A1\"]\n",
    "    W2=node.W2\n",
    "    dZ2=A2-y\n",
    "    dW2=np.dot(dZ2,A1.T)/m\n",
    "    db2=1/m*np.sum(dZ2,axis=1,keepdims=True)\n",
    "    dZ1=np.dot(W2.T,dZ2)*A1*(1-A1)\n",
    "    dW1 = 1/m*np.dot(dZ1,X)\n",
    "    db1 = 1/m*np.sum(dZ1,axis=1,keepdims=True)\n",
    "    grads = {\"dW1\": dW1,\n",
    "             \"db1\": db1,\n",
    "             \"dW2\": dW2,\n",
    "             \"db2\": db2}\n",
    "    \n",
    "    return grads\n",
    "    \n",
    "#cost of a function\n",
    "def cost(Y,cache):\n",
    "    A2=cache[\"A2\"]\n",
    "    m=y.shape[1]\n",
    "    loss=np.multiply(np.log(A2),Y)+np.multiply(np.log(1-A2),1-Y)\n",
    "    return -np.sum(loss)/m\n",
    "\n",
    "#update weights\n",
    "def update(node,grads,n):\n",
    "    node.W1=node.W1-n*grads[\"dW1\"]\n",
    "    node.b1=node.b1-n*grads[\"db1\"]\n",
    "    node.W2=node.W2-n*grads[\"dW2\"]\n",
    "    node.b2=node.b2-n*grads[\"db2\"]\n",
    "\n",
    "#update model\n",
    "def nn_model(node,y,no_of_iterations,learning_rate):\n",
    "    \n",
    "    for i in range(no_of_iterations):\n",
    "        cache=forward_prop(node.W1,node.b1,node.W2,node.b2,node)\n",
    "        loss=cost(y,cache)\n",
    "        grads=back_pass(y,cache,node)\n",
    "        update(node,grads,learning_rate)\n",
    "        \n",
    "    return cache\n",
    "\n",
    "#predict\n",
    "def predictions(node):\n",
    "    cache=forward_prop(node.W1,node.b1,node.W2,node.b2,node)\n",
    "    A2=cache[\"A2\"]\n",
    "    print(np.round(A2))\n",
    "    \n",
    "#data set\n",
    "X=np.array([[1,-1],[-1,1],[1,1],[-1,-1]])\n",
    "y=np.array([[1,1,0,0]])\n",
    "\n",
    "#gettnf dims\n",
    "nx=X.shape[1]\n",
    "m=X.shape[0]\n",
    "print(\"Enter no of layers\")\n",
    "nh=int(input())\n",
    "ny=1\n",
    "\n",
    "node=NeuralNetwork(nx,ny,m,nh)\n",
    "cache=forward_prop(node.W1,node.b1,node.W2,node.b2,node)\n",
    "grads=back_pass(y,cache,node)\n",
    "cache=nn_model(node,y,10000,0.1)\n",
    "predictions(node)\n",
    "print(\"The final cost =\",cost(y,cache))\n",
    "plt.scatter(X[0:,:1],X[0:,1:])\n"
   ]
  },
  {
   "cell_type": "code",
   "execution_count": 178,
   "metadata": {},
   "outputs": [
    {
     "name": "stdout",
     "output_type": "stream",
     "text": [
      "[[ 1]\n",
      " [-1]\n",
      " [ 1]\n",
      " [-1]]\n"
     ]
    }
   ],
   "source": [
    "    \n",
    "X=np.array([[1,-1],[-1,1],[1,1],[-1,-1]])\n",
    "print(X[0:,:1])"
   ]
  },
  {
   "cell_type": "code",
   "execution_count": null,
   "metadata": {},
   "outputs": [],
   "source": []
  }
 ],
 "metadata": {
  "kernelspec": {
   "display_name": "Python 3",
   "language": "python",
   "name": "python3"
  },
  "language_info": {
   "codemirror_mode": {
    "name": "ipython",
    "version": 3
   },
   "file_extension": ".py",
   "mimetype": "text/x-python",
   "name": "python",
   "nbconvert_exporter": "python",
   "pygments_lexer": "ipython3",
   "version": "3.8.4"
  }
 },
 "nbformat": 4,
 "nbformat_minor": 4
}
